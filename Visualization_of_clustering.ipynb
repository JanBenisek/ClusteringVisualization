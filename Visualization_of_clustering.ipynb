{
 "cells": [
  {
   "cell_type": "markdown",
   "metadata": {},
   "source": [
    "# Visualization of clustering\n",
    "In this notebook, I'd like to show you my favourite way of visualizing clusters from arbitrary clustering algorithm.\n",
    "\n",
    "I will work with the Iris dataset from scikit-sklearn. Lates version of Anaconda (I am using Python 2.7) is all you need to run this example.\n",
    "\n",
    "All suggestions are very much appreciated."
   ]
  },
  {
   "cell_type": "code",
   "execution_count": 1,
   "metadata": {
    "collapsed": false
   },
   "outputs": [],
   "source": [
    "#Imports\n",
    "from sklearn.datasets import load_iris\n",
    "import pandas as pd\n",
    "import numpy as np\n",
    "from sklearn.cluster import KMeans\n",
    "from scipy.stats import zscore\n",
    "from matplotlib import pyplot as plt\n",
    "from sklearn import preprocessing as prep\n",
    "import seaborn as sns\n",
    "\n",
    "#Make the print nice\n",
    "pd.set_option('display.max_rows', 500)\n",
    "pd.set_option('display.max_columns', 500)\n",
    "pd.set_option('display.width', 1000)\n",
    "np.set_printoptions(linewidth=100, precision=4,suppress=True)"
   ]
  },
  {
   "cell_type": "markdown",
   "metadata": {},
   "source": [
    "## Prepare the data\n",
    "We start with preparing the Iris dataset and inspecting the first few rows."
   ]
  },
  {
   "cell_type": "code",
   "execution_count": 2,
   "metadata": {
    "collapsed": false
   },
   "outputs": [
    {
     "name": "stdout",
     "output_type": "stream",
     "text": [
      "   sepal length (cm)  sepal width (cm)  petal length (cm)  petal width (cm)  class\n",
      "0                5.1               3.5                1.4               0.2      0\n",
      "1                4.9               3.0                1.4               0.2      0\n",
      "2                4.7               3.2                1.3               0.2      0\n",
      "3                4.6               3.1                1.5               0.2      0\n",
      "4                5.0               3.6                1.4               0.2      0\n"
     ]
    }
   ],
   "source": [
    "iris = load_iris()\n",
    "clmns = iris.feature_names\n",
    "\n",
    "#Put into DataFrame\n",
    "df_iris = pd.DataFrame(iris.data, columns = clmns)\n",
    "df_iris['class'] = iris.target\n",
    "\n",
    "#Let's have a look at first 5 rows\n",
    "print df_iris.head(n=5)"
   ]
  },
  {
   "cell_type": "markdown",
   "metadata": {},
   "source": [
    "## Calculate the clusters\n",
    "For the sake of the exercise, I will skip choosing and fine tunning the clustering algorithm and simply use out-of-box k-Means from sklearn.\n",
    "\n",
    "Of course, we do not want the target class leak into the clustering solution, hence the class is not used to calculate the clusters. Lastly, since k-Means uses Euclidian distance, the data are normalized using z-score (I found out that z-score gives overall the most stable solution)."
   ]
  },
  {
   "cell_type": "code",
   "execution_count": 3,
   "metadata": {
    "collapsed": true
   },
   "outputs": [],
   "source": [
    "#########\n",
    "n_cls = 3\n",
    "#########\n",
    "\n",
    "def clusterer(df_,k):\n",
    "    '''\n",
    "    Calculates cluster labels given the dataset\n",
    "    -------------------------------------------\n",
    "    df_: DataFrame containing the training data\n",
    "    k: number of clusters\n",
    "    -------------------------------------------\n",
    "    '''\n",
    "    #Normalize\n",
    "    df_std = df_.apply(zscore).as_matrix()\n",
    "    #Fit the algorithm\n",
    "    cluster = KMeans(n_clusters=k)\n",
    "    cluster_labels = cluster.fit_predict(df_std)\n",
    "    return cluster_labels \n",
    "\n",
    "df_iris['clusters'] = clusterer(df_iris[clmns],n_cls)"
   ]
  },
  {
   "cell_type": "markdown",
   "metadata": {},
   "source": [
    "## Analyzing the output\n",
    "Now the interesting part. Every record has a cluster label. In this step, I calculate mean over each column for each cluster. Moreover, I also add mean of each column from the whole sample - this will serve as a benchmark."
   ]
  },
  {
   "cell_type": "code",
   "execution_count": 4,
   "metadata": {
    "collapsed": false
   },
   "outputs": [],
   "source": [
    "def calcClusterFrame(df_, clmn, target_name):\n",
    "    '''\n",
    "    Calculates mean for each attribute in each cluster group in order to be easily comparable.\n",
    "    Moreover, average in the whole sample is added as a benchmark\n",
    "    -------------------------------------------\n",
    "    clmn: list of columns\n",
    "    target_name: name of target column\n",
    "    df_: DataFrame with input data\n",
    "    ----------------------------------------'''\n",
    "    #Calculates mean over all samples\n",
    "    clmns1 = list(clmn)  \n",
    "    clmns1.extend([target_name])\n",
    "    df_sample = pd.DataFrame()\n",
    "    df_sample['sample_val'] = df_[clmns1].mean(axis=0)\n",
    "    \n",
    "    #Calculates mean per cluster\n",
    "    clmns2 = list(clmns1) \n",
    "    clmns2.extend(['clusters'])\n",
    "    df_clusters = df_[clmns2].groupby(['clusters']).mean().transpose()\n",
    "    \n",
    "    #Size of clusters in percentage\n",
    "    df_clusters.loc['SIZE'] = (df_[clmns2].groupby('clusters')['clusters'].count()/len(df_))*100\n",
    "    \n",
    "    #Merge the two DataFrames into one and round\n",
    "    df_analysis = pd.concat([df_sample['sample_val'],df_clusters], axis=1, join='outer').round(2)\n",
    "    \n",
    "    #Set column names\n",
    "    clmn_names = ['sample_val']\n",
    "    for clus in np.unique(df_['clusters']):\n",
    "        clmn_names.append('Cluster_' + str(clus))\n",
    "        \n",
    "    df_analysis.columns = clmn_names\n",
    "    \n",
    "    #Add count of the whole sample\n",
    "    df_analysis.loc['SIZE', 'sample_val'] = len(df_)\n",
    "    \n",
    "    return df_analysis"
   ]
  },
  {
   "cell_type": "markdown",
   "metadata": {},
   "source": [
    "If you look at the output, you can easily see the differences between clusters. I have also added size of the whole sample and of each cluster (in percentage). \n",
    "\n",
    "Note that in these settings, the mean of the target variable *class* **does not really make sense**. However, when the target is binary, it is very useful. Therefore, I kept it in order to show the possibility."
   ]
  },
  {
   "cell_type": "code",
   "execution_count": 5,
   "metadata": {
    "collapsed": false
   },
   "outputs": [
    {
     "name": "stdout",
     "output_type": "stream",
     "text": [
      "                   sample_val  Cluster_0  Cluster_1  Cluster_2\n",
      "SIZE                   150.00      34.67      33.33      32.00\n",
      "class                    1.00       1.27       0.00       1.75\n",
      "petal length (cm)        3.76       4.37       1.46       5.49\n",
      "petal width (cm)         1.20       1.42       0.24       1.96\n",
      "sepal length (cm)        5.84       5.79       5.01       6.78\n",
      "sepal width (cm)         3.05       2.67       3.42       3.09\n"
     ]
    }
   ],
   "source": [
    "df_agg = calcClusterFrame(df_iris, clmns, 'class')\n",
    "print df_agg"
   ]
  },
  {
   "cell_type": "markdown",
   "metadata": {},
   "source": [
    "## Visualizing the output\n",
    "We have the aggregated table, which does the job, but you would not show this to your boss (I hope). We need to put some fancy colors and make it good-looking!\n",
    "\n",
    "Just a few notes:\n",
    "  * argument *prc_clmn* allows to format certain columns as a percentage. This can be useful if any of the input feature is boolean, because then the average is in fact percentage\n",
    "  * I also added arguments *dire* and *size*, because sometimes I want to visualize different kinds of DataFrames. Those two parameters allows me to be more flexible"
   ]
  },
  {
   "cell_type": "code",
   "execution_count": 6,
   "metadata": {
    "collapsed": false
   },
   "outputs": [],
   "source": [
    "def clusterHeatMap(df, clmn, prc_clmn, dire='column', width='5', length='5', color='Blues', size=False):\n",
    "    \"\"\"Plot a heatmap from the aggregated dataframe\n",
    "    --------------------------------------------------------------\n",
    "    df: Dataframe which we would like to make nice\n",
    "    clmn: list of columns (in case i need to rename them or make them more readable for business people)\n",
    "    prc_clmn: list of columns which should be formatted as percentage. If none, just put []\n",
    "    dire: how the standardization should be - per row or column\n",
    "    width and length: width and length of the plot\n",
    "    color: What kind of color I want, its cmap argument so many arguments are possible\n",
    "    size: whether SIZE row is present and should be formatted\n",
    "    --------------------------------------------------------------\"\"\"\n",
    "    #Scale the data to have the heatmap \n",
    "    scaler = prep.MinMaxScaler()\n",
    "    mat = df.as_matrix()\n",
    "    \n",
    "    if dire =='row':\n",
    "        scale_t = scaler.fit_transform(mat.T).T\n",
    "    if dire == 'column':\n",
    "        scale_t = scaler.fit_transform(mat)\n",
    "        \n",
    "    df_std = pd.DataFrame(scale_t, columns=list(df.columns.values), index=df.index)\n",
    "    \n",
    "    #Percentage formatting    \n",
    "    # get positions of columns to be converted to percentage\n",
    "    idx_position = []\n",
    "    if prc_clmn:\n",
    "        for col in prc_clmn:\n",
    "            try:\n",
    "                idx_position.append(df.index.get_loc(col))\n",
    "            except:\n",
    "                print 'Column {} is not in the DataFrame'.format(col)\n",
    "    \n",
    "    # format every row depending whether it should be % or not        \n",
    "    labels_char = []\n",
    "    for rowid,row in enumerate(mat):\n",
    "        aux = []\n",
    "        for ele in row:\n",
    "            if rowid in idx_position:\n",
    "                aux.append('{:.2f}%'.format(ele*100))\n",
    "            else:\n",
    "                aux.append('{:.2f}'.format(ele))\n",
    "        labels_char.append(aux)\n",
    "    \n",
    "    #Format SIZE for cluster heatmaps\n",
    "    idx = df.index.tolist()\n",
    "    if size:\n",
    "        position = idx.index('SIZE')\n",
    "        for i,ele in enumerate(labels_char[position]):\n",
    "            if i > 0:\n",
    "                labels_char[0][i] = '{:.2f}%'.format(np.float(ele))\n",
    "        \n",
    "    #needs to be in numpy in order to pass it as a parameter to seaborn\n",
    "    labels_char = np.array(labels_char)\n",
    "            \n",
    "    #Plot and its formatting\n",
    "    fig, ax = plt.subplots(figsize=(width,length))\n",
    "    ax = sns.heatmap(df_std, annot=labels_char, fmt = '', cmap=color) #fmt must be set to '' when working with str\n",
    "    ax.set_xticklabels(clmn, minor=False) #custom names with breaks\n",
    "    ax.xaxis.tick_top() #move on top"
   ]
  },
  {
   "cell_type": "markdown",
   "metadata": {},
   "source": [
    "Below you can see the visualization. I really like this because with a quick look, I can tell:\n",
    "\n",
    "  1. size of each group\n",
    "  2. difference between attributes in clusters\n",
    "  3. comparison with the whole dataset\n",
    "\n",
    "\n",
    "**In our case:**\n",
    "  * The groups have approximately same size.\n",
    "  * cluster_1 contains mostly class 0, whilst cluster_2 have more class 2 and 3 (again, only example - mean for categorical values really does not make sense)\n",
    "  * Flowers in cluster_0 have the lowest sepal width, other attributes are above average.\n",
    "  * Flowers in cluster_1 have the highest sepal width, other features are below average.\n",
    "  * Flowers in cluster_2 seems to be the largest with exception of sepal width.\n",
    "  * Cluster_0 and cluster_2 are quite similar."
   ]
  },
  {
   "cell_type": "code",
   "execution_count": 7,
   "metadata": {
    "collapsed": false
   },
   "outputs": [
    {
     "data": {
      "image/png": "[encoded data removed]",
      "text/plain": [
       "<matplotlib.figure.Figure at 0xbdaba90>"
      ]
     },
     "metadata": {},
     "output_type": "display_data"
    }
   ],
   "source": [
    "clusterHeatMap(df_agg, df_agg.columns, [], dire='row', width=5, length=5, color='Reds', size=True)\n",
    "plt.show();"
   ]
  }
 ],
 "metadata": {
  "anaconda-cloud": {},
  "kernelspec": {
   "display_name": "Python [default]",
   "language": "python",
   "name": "python2"
  },
  "language_info": {
   "codemirror_mode": {
    "name": "ipython",
    "version": 2
   },
   "file_extension": ".py",
   "mimetype": "text/x-python",
   "name": "python",
   "nbconvert_exporter": "python",
   "pygments_lexer": "ipython2",
   "version": "2.7.12"
  }
 },
 "nbformat": 4,
 "nbformat_minor": 1
}
